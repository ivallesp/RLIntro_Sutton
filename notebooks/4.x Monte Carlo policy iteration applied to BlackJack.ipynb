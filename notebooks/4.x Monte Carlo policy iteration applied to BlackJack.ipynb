{
 "cells": [
  {
   "cell_type": "markdown",
   "metadata": {},
   "source": [
    "##  Monte Carlo policy iteration applied to BlackJack"
   ]
  },
  {
   "cell_type": "markdown",
   "metadata": {},
   "source": [
    "Here I implemento Monte Carlo policy iteration using $\\epsilon-\\text{greedy}$ with $\\epsilon=0.1$ for getting the optimal policy in the game of BlackJack"
   ]
  },
  {
   "cell_type": "code",
   "execution_count": 1,
   "metadata": {
    "collapsed": true
   },
   "outputs": [],
   "source": [
    "import gym\n",
    "import numpy as np\n",
    "import random\n",
    "from tqdm import tqdm\n",
    "\n",
    "import matplotlib.pyplot as plt\n",
    "import pandas as pd\n",
    "from mpl_toolkits.mplot3d import axes3d, Axes3D\n",
    "from scipy.interpolate import griddata\n",
    "\n",
    "import plotly.plotly as py\n",
    "import plotly.graph_objs as go"
   ]
  },
  {
   "cell_type": "code",
   "execution_count": 2,
   "metadata": {
    "collapsed": true
   },
   "outputs": [],
   "source": [
    "env = gym.make(\"Blackjack-v0\")"
   ]
  },
  {
   "cell_type": "raw",
   "metadata": {},
   "source": [
    "# PlayGround (Uncomment for play against the Dealer)\n",
    "while True:\n",
    "    state = env.reset()\n",
    "    done = False\n",
    "    while not done:\n",
    "        action = input(\"Sum: {0}, Dealer: {1}, Usable ace: {2}--  Select an action: \".format(*state))\n",
    "        state, reward, done, _ = env.step(int(action))\n",
    "    if reward == -1:\n",
    "        print(\"  Dealer wins!\")\n",
    "    else:\n",
    "        print(\"  Human wins!\")\n",
    "    print(\"=======================================\")"
   ]
  },
  {
   "cell_type": "code",
   "execution_count": 3,
   "metadata": {
    "collapsed": true
   },
   "outputs": [],
   "source": [
    "class Agent:\n",
    "    def __init__(self):\n",
    "        self.policy = {}\n",
    "        self.state_action_values = {}\n",
    "        self.visits = {}\n",
    "        self.gamma = 0.9\n",
    "        self.epsilon = 0.1\n",
    "        \n",
    "    def get_action(self, state):\n",
    "        action_values = self.state_action_values.get(state)\n",
    "        if action_values is not None:\n",
    "            best_action = max(action_values.items(), key=lambda x:x[1])[0]\n",
    "        else:\n",
    "            best_action = random.randint(0, 1)\n",
    "        if random.random() < self.epsilon:\n",
    "            best_action = random.randint(0, 1)\n",
    "        return best_action\n",
    "    \n",
    "    def update_values(self, episode):\n",
    "        returns = 0\n",
    "        for state, action, reward in reversed(episode):\n",
    "            returns = reward + self.gamma*returns\n",
    "            # Increase visits dict\n",
    "            visits_state_dict = self.visits.get(state, {})\n",
    "            visits_state_dict[action] = visits_state_dict.get(action, 0) + 1\n",
    "            self.visits[state] = visits_state_dict\n",
    "            # Update values dict\n",
    "            state_dict = self.state_action_values.get(state, {})\n",
    "            error = np.mean(returns) - state_dict.get(action, 0)\n",
    "            state_dict[action] = state_dict.get(action, 0) + (1/self.visits[state][action]) * error\n",
    "            self.state_action_values[state] = state_dict\n",
    "        "
   ]
  },
  {
   "cell_type": "code",
   "execution_count": 4,
   "metadata": {
    "collapsed": true
   },
   "outputs": [],
   "source": [
    "agent = Agent()"
   ]
  },
  {
   "cell_type": "code",
   "execution_count": 5,
   "metadata": {
    "collapsed": true,
    "scrolled": false
   },
   "outputs": [],
   "source": [
    "returns = []\n",
    "deltas = [1]\n",
    "for i in range(1000000):\n",
    "    values = np.array([max([x[1] for x in s.items()]) for s in list(agent.state_action_values.values())])\n",
    "    done = False\n",
    "    episode=[]\n",
    "    \n",
    "    state = env.reset()\n",
    "    action = random.randint(0,1)\n",
    "    new_state, reward, done, _ = env.step(action)\n",
    "    episode.append((state, action, reward))\n",
    "    \n",
    "    while not done:\n",
    "        state = new_state\n",
    "        action = agent.get_action(state)\n",
    "        new_state, reward, done, _ = env.step(int(action))\n",
    "        episode.append((state, action, reward))\n",
    "    agent.update_values(episode)\n",
    "    returns.append(reward)\n",
    "    new_values = np.array([max([x[1] for x in s.items()]) for s in list(agent.state_action_values.values())])\n",
    "    if len(values) == len(new_values):\n",
    "        deltas.append(np.max(np.abs(values-new_values)))\n",
    "    if np.mean(deltas[-1000:]) < 0.001:\n",
    "        break"
   ]
  },
  {
   "cell_type": "code",
   "execution_count": 6,
   "metadata": {
    "scrolled": true
   },
   "outputs": [
    {
     "data": {
      "image/png": "[encoded data removed]",
      "text/plain": [
       "<matplotlib.figure.Figure at 0x1651db3db00>"
      ]
     },
     "metadata": {},
     "output_type": "display_data"
    }
   ],
   "source": [
    "plt.plot(pd.Series(returns).ewm(span=1000).mean())\n",
    "plt.show()"
   ]
  },
  {
   "cell_type": "code",
   "execution_count": 7,
   "metadata": {
    "collapsed": true
   },
   "outputs": [],
   "source": [
    "state_action_values = list(map(lambda x:(x[0], list(x[1].items())), list(agent.state_action_values.items())))\n",
    "\n",
    "sa_no_ace = list(sorted(list(map(lambda x:(x[0][0], x[0][1], max(x[1][0][1], x[1][1][1])),\n",
    "                                 filter(lambda x:x[0][2]==False, state_action_values)))))\n",
    "sa_ace = list(sorted(list(map(lambda x:(x[0][0], x[0][1], max(x[1][0][1], x[1][1][1])),\n",
    "                              filter(lambda x:x[0][2]==True, state_action_values)))))"
   ]
  },
  {
   "cell_type": "code",
   "execution_count": 8,
   "metadata": {},
   "outputs": [
    {
     "data": {
      "text/html": [
       "<iframe id=\"igraph\" scrolling=\"no\" style=\"border:none;\" seamless=\"seamless\" src=\"https://plot.ly/~ivallesp/2.embed\" height=\"700px\" width=\"1000px\"></iframe>"
      ],
      "text/plain": [
       "<plotly.tools.PlotlyDisplay object>"
      ]
     },
     "execution_count": 8,
     "metadata": {},
     "output_type": "execute_result"
    }
   ],
   "source": [
    "y, x, z = zip(*sa_no_ace)\n",
    "\n",
    "x = np.array(x)\n",
    "y = np.array(y)\n",
    "z = np.array(z)\n",
    "\n",
    "data = [\n",
    "    go.Surface(\n",
    "        z=z.reshape((18, 10)),\n",
    "        x=x.reshape((18,10))[0,:],\n",
    "        y=y.reshape((18,10))[:,0]\n",
    "    )\n",
    "]\n",
    "\n",
    "layout = go.Layout(\n",
    "    title=\"MC BlackJack Agent's value function (No usable Ace)\",\n",
    "    autosize=False,\n",
    "    width=1000,\n",
    "    height=700,\n",
    "    xaxis=dict(title='Dealer card value'),\n",
    "    yaxis=dict(title=\"Agent's cards total value\")\n",
    ")\n",
    "\n",
    "fig = go.Figure(data=data, layout=layout)\n",
    "py.iplot(fig, filename='plot')"
   ]
  },
  {
   "cell_type": "markdown",
   "metadata": {
    "collapsed": true
   },
   "source": [
    "![BlackJack optimal policy](../img/MC_BlackJack.png)"
   ]
  },
  {
   "cell_type": "code",
   "execution_count": null,
   "metadata": {
    "collapsed": true
   },
   "outputs": [],
   "source": []
  }
 ],
 "metadata": {
  "kernelspec": {
   "display_name": "Python 3",
   "language": "python",
   "name": "python3"
  },
  "language_info": {
   "codemirror_mode": {
    "name": "ipython",
    "version": 3
   },
   "file_extension": ".py",
   "mimetype": "text/x-python",
   "name": "python",
   "nbconvert_exporter": "python",
   "pygments_lexer": "ipython3",
   "version": "3.6.1"
  }
 },
 "nbformat": 4,
 "nbformat_minor": 2
}
